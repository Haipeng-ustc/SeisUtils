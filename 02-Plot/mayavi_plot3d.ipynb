{
 "cells": [
  {
   "cell_type": "markdown",
   "id": "04f224ee-febd-4b67-aae8-b0834bb4530e",
   "metadata": {},
   "source": [
    "### You may choose the right backend for slicing the data cube in real time with your mouse\n",
    "\n",
    "#### Since I don't know what packages I have installed or commands I have used to enable the 3D plotting in the jupyter notebook, you may want to resolve any possible problems before running the code below."
   ]
  },
  {
   "cell_type": "code",
   "execution_count": 3,
   "id": "5cc4ff9f-d5f2-46aa-85c6-400396bfa077",
   "metadata": {},
   "outputs": [],
   "source": [
    "# !pip install mayavi\n",
    "# !pip install PyQt5\n",
    "# !pip install ipyevents"
   ]
  },
  {
   "cell_type": "code",
   "execution_count": 4,
   "id": "232bb3a6-215c-4319-b24e-6bce19dfcb5e",
   "metadata": {},
   "outputs": [
    {
     "name": "stdout",
     "output_type": "stream",
     "text": [
      "Notebook initialized with ipy backend.\n"
     ]
    }
   ],
   "source": [
    "from mayavi import mlab\n",
    "mlab.init_notebook()"
   ]
  },
  {
   "cell_type": "code",
   "execution_count": 5,
   "id": "7f77d786-8998-4764-8d6a-b2cc37d0cd79",
   "metadata": {},
   "outputs": [
    {
     "data": {
      "application/vnd.jupyter.widget-view+json": {
       "model_id": "6a6e047f0072436b8898d18cff8a963a",
       "version_major": 2,
       "version_minor": 0
      },
      "text/plain": [
       "Image(value=b'\\x89PNG\\r\\n\\x1a\\n\\x00\\x00\\x00\\rIHDR\\x00\\x00\\x01\\x90\\x00\\x00\\x01^\\x08\\x02\\x00\\x00\\x00$?\\xde_\\x00\\…"
      ]
     },
     "metadata": {},
     "output_type": "display_data"
    }
   ],
   "source": [
    "# def plot_3D(xx, yy, zz, data, filename, vmin, vmax, colormap = 'jet'):\n",
    "#     ''' Plot model material (3D), e.g. vp, vs, and rho.\n",
    "#     '''\n",
    "import numpy as np\n",
    "nx = 20\n",
    "ny = 20\n",
    "nz = 20\n",
    "xx = np.linspace(0, 1, nx)\n",
    "yy = np.linspace(0, 1, ny)\n",
    "zz = np.linspace(0, 1, nz)\n",
    "\n",
    "data = np.random.randn(nx, ny, nz)\n",
    "zz = np.flip(zz)\n",
    "X,Y,Z = np.meshgrid(xx, yy, zz, indexing='ij')\n",
    "\n",
    "colormap = 'seismic'\n",
    "vmin = -1\n",
    "vmax =  1\n",
    "\n",
    "data = mlab.pipeline.scalar_field(X,Y,Z,data)\n",
    "mlab.pipeline.image_plane_widget(data, plane_orientation='x_axes', line_width=1.0, slice_index=len(xx)//2, colormap=colormap, vmin=vmin, vmax=vmax)\n",
    "mlab.pipeline.image_plane_widget(data, plane_orientation='y_axes', line_width=1.0, slice_index=len(yy)//2, colormap=colormap, vmin=vmin, vmax=vmax)\n",
    "mlab.pipeline.image_plane_widget(data, plane_orientation='z_axes', line_width=1.0, slice_index=len(zz)//2, colormap=colormap, vmin=vmin, vmax=vmax)\n",
    "mlab.show()\n",
    "mlab.axes(xlabel='Distance-x (m)', ylabel='Distance-y (m)', zlabel='Depth (m)')\n",
    "\n",
    "# mlab.savefig(filename, size=(480,480))\n",
    "# mlab.close()"
   ]
  },
  {
   "cell_type": "code",
   "execution_count": null,
   "id": "39745c00-a48e-42dd-8e9c-df2dbb88696f",
   "metadata": {},
   "outputs": [],
   "source": []
  }
 ],
 "metadata": {
  "kernelspec": {
   "display_name": "Python 3 (ipykernel)",
   "language": "python",
   "name": "python3"
  },
  "language_info": {
   "codemirror_mode": {
    "name": "ipython",
    "version": 3
   },
   "file_extension": ".py",
   "mimetype": "text/x-python",
   "name": "python",
   "nbconvert_exporter": "python",
   "pygments_lexer": "ipython3",
   "version": "3.9.13"
  }
 },
 "nbformat": 4,
 "nbformat_minor": 5
}
